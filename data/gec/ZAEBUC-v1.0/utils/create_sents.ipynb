{
 "cells": [
  {
   "cell_type": "code",
   "execution_count": 1,
   "id": "9b3bb0bf",
   "metadata": {},
   "outputs": [],
   "source": [
    "from camel_tools.utils.charmap import CharMapper\n",
    "AR_CLEAN = CharMapper.builtin_mapper('arclean')"
   ]
  },
  {
   "cell_type": "code",
   "execution_count": 2,
   "id": "c237d0df",
   "metadata": {},
   "outputs": [],
   "source": [
    "def read_data(path):\n",
    "    with open(path, mode='r', encoding='utf8') as f:\n",
    "        return [x.strip() for x in f.readlines()]"
   ]
  },
  {
   "cell_type": "code",
   "execution_count": 3,
   "id": "33075021",
   "metadata": {},
   "outputs": [],
   "source": [
    "def write_data(data, output_path):\n",
    "    with open(output_path, mode='w') as f:\n",
    "        for line in data:\n",
    "            f.write(AR_CLEAN(line))\n",
    "            f.write('\\n')"
   ]
  },
  {
   "cell_type": "code",
   "execution_count": 4,
   "id": "2e16667f",
   "metadata": {},
   "outputs": [],
   "source": [
    "def organize_data(all_ids, all_raw, all_corrected, all_cefr, all_ops):\n",
    "    ids, raw, corr, cefr, ops = [], [], [], [], []\n",
    "    for i in range(len(all_ids)):\n",
    "        ids.append(all_ids[i][0])\n",
    "        raw.append(' '.join(all_raw[i]))\n",
    "        corr.append(' '.join(all_corrected[i]))\n",
    "        cefr.append(all_cefr[i][0])\n",
    "        ops.append(' '.join(all_ops[i]))\n",
    "    \n",
    "    assert len(ids) == len(raw) == len(corr) == len(cefr) == len(ops)\n",
    "    return ids, raw, corr, cefr, ops"
   ]
  },
  {
   "cell_type": "code",
   "execution_count": 5,
   "id": "9488ae9e",
   "metadata": {},
   "outputs": [],
   "source": [
    "def colllate_data(raw_data):\n",
    "    ids = [] \n",
    "    raw = []\n",
    "    corrected = []\n",
    "    cefr = []\n",
    "    ops = []\n",
    "    \n",
    "    all_ids, all_raw, all_corrected, all_cefr = [], [], [], []\n",
    "    all_ops = []\n",
    "    \n",
    "    \n",
    "    for line in raw_data:\n",
    "        if line:\n",
    "            id_, raw_, corrected_, cefr_, op_ = line.split('\\t')\n",
    "            ids.append(id_)\n",
    "            raw.append(raw_)\n",
    "            corrected.append(corrected_)\n",
    "            cefr.append(cefr_)\n",
    "            ops.append(op_)\n",
    "        else:\n",
    "            all_ids.append(ids)\n",
    "            all_raw.append(raw)\n",
    "            all_corrected.append(corrected)\n",
    "            all_cefr.append(cefr)\n",
    "            all_ops.append(ops)\n",
    "            ids, raw, corrected, cefr, ops = [], [], [], [], []\n",
    "    \n",
    "    return all_ids, all_raw, all_corrected, all_cefr, all_ops"
   ]
  },
  {
   "cell_type": "code",
   "execution_count": 6,
   "id": "d6e478b5",
   "metadata": {},
   "outputs": [],
   "source": [
    "ar_train = read_data('ar/train/train.tokens')[1:]\n",
    "\n",
    "coll_ids, coll_raw, coll_corrected, coll_cefr, coll_ops = colllate_data(ar_train)\n",
    "ids, raw, corr, cefr, ops = organize_data(coll_ids, coll_raw, coll_corrected, coll_cefr, coll_ops)"
   ]
  },
  {
   "cell_type": "code",
   "execution_count": 7,
   "id": "223ee313",
   "metadata": {},
   "outputs": [],
   "source": [
    "write_data(ids, 'ar/train/train.sent.ids')\n",
    "write_data(raw, 'ar/train/train.sent.raw')\n",
    "write_data(corr, 'ar/train/train.sent.cor')\n",
    "write_data(cefr, 'ar/train/train.sent.cefr')\n",
    "# write_data(ops, 'ar/train/train.sent.ops')"
   ]
  },
  {
   "cell_type": "code",
   "execution_count": 8,
   "id": "4ea3ea87",
   "metadata": {},
   "outputs": [],
   "source": [
    "ar_dev = read_data('ar/dev/dev.tokens')[1:]\n",
    "\n",
    "coll_ids, coll_raw, coll_corrected, coll_cefr, coll_ops = colllate_data(ar_dev)\n",
    "ids, raw, corr, cefr, ops = organize_data(coll_ids, coll_raw, coll_corrected, coll_cefr, coll_ops)\n",
    "write_data(ids, 'ar/dev/dev.sent.ids')\n",
    "write_data(raw, 'ar/dev/dev.sent.raw')\n",
    "write_data(corr, 'ar/dev/dev.sent.cor')\n",
    "write_data(cefr, 'ar/dev/dev.sent.cefr')\n",
    "# write_data(ops, 'ar/train/dev.sent.ops')"
   ]
  },
  {
   "cell_type": "code",
   "execution_count": 9,
   "id": "087f9f09",
   "metadata": {},
   "outputs": [],
   "source": [
    "ar_test = read_data('ar/test/test.tokens')[1:]\n",
    "\n",
    "coll_ids, coll_raw, coll_corrected, coll_cefr, coll_ops = colllate_data(ar_test)\n",
    "ids, raw, corr, cefr, ops = organize_data(coll_ids, coll_raw, coll_corrected, coll_cefr, coll_ops)\n",
    "write_data(ids, 'ar/test/test.sent.ids')\n",
    "write_data(raw, 'ar/test/test.sent.raw')\n",
    "write_data(corr, 'ar/test/test.sent.cor')\n",
    "write_data(cefr, 'ar/test/test.sent.cefr')\n",
    "# write_data(ops, 'ar/train/test.sent.ops')"
   ]
  },
  {
   "cell_type": "code",
   "execution_count": null,
   "id": "6f95d3cf",
   "metadata": {},
   "outputs": [],
   "source": []
  },
  {
   "cell_type": "code",
   "execution_count": 10,
   "id": "25e22c01",
   "metadata": {},
   "outputs": [],
   "source": [
    "en_train = read_data('en/train/train.tokens')[1:]\n",
    "\n",
    "coll_ids, coll_raw, coll_corrected, coll_cefr, coll_ops = colllate_data(en_train)\n",
    "ids, raw, corr, cefr, ops = organize_data(coll_ids, coll_raw, coll_corrected, coll_cefr, coll_ops)"
   ]
  },
  {
   "cell_type": "code",
   "execution_count": 11,
   "id": "62b72b9c",
   "metadata": {},
   "outputs": [],
   "source": [
    "write_data(ids, 'en/train/train.sent.ids')\n",
    "write_data(raw, 'en/train/train.sent.raw')\n",
    "write_data(corr, 'en/train/train.sent.cor')\n",
    "write_data(cefr, 'en/train/train.sent.cefr')\n",
    "# write_data(ops, 'en/train/train.sent.ops')"
   ]
  },
  {
   "cell_type": "code",
   "execution_count": 12,
   "id": "cf8df721",
   "metadata": {},
   "outputs": [],
   "source": [
    "en_dev = read_data('en/dev/dev.tokens')[1:]\n",
    "\n",
    "coll_ids, coll_raw, coll_corrected, coll_cefr, coll_ops = colllate_data(en_dev)\n",
    "ids, raw, corr, cefr, ops = organize_data(coll_ids, coll_raw, coll_corrected, coll_cefr, coll_ops)"
   ]
  },
  {
   "cell_type": "code",
   "execution_count": 13,
   "id": "f7c3738a",
   "metadata": {},
   "outputs": [],
   "source": [
    "write_data(ids, 'en/dev/dev.sent.ids')\n",
    "write_data(raw, 'en/dev/dev.sent.raw')\n",
    "write_data(corr, 'en/dev/dev.sent.cor')\n",
    "write_data(cefr, 'en/dev/dev.sent.cefr')\n",
    "# write_data(ops, 'en/dev/dev.sent.ops')"
   ]
  },
  {
   "cell_type": "code",
   "execution_count": 14,
   "id": "7915376c",
   "metadata": {},
   "outputs": [],
   "source": [
    "en_test = read_data('en/test/test.tokens')[1:]\n",
    "\n",
    "coll_ids, coll_raw, coll_corrected, coll_cefr, coll_ops = colllate_data(en_test)\n",
    "ids, raw, corr, cefr, ops = organize_data(coll_ids, coll_raw, coll_corrected, coll_cefr, coll_ops)"
   ]
  },
  {
   "cell_type": "code",
   "execution_count": 15,
   "id": "4b147886",
   "metadata": {},
   "outputs": [],
   "source": [
    "write_data(ids, 'en/test/test.sent.ids')\n",
    "write_data(raw, 'en/test/test.sent.raw')\n",
    "write_data(corr, 'en/test/test.sent.cor')\n",
    "write_data(cefr, 'en/test/test.sent.cefr')\n",
    "# write_data(ops, 'en/test/test.sent.ops')"
   ]
  },
  {
   "cell_type": "code",
   "execution_count": null,
   "id": "3714b047",
   "metadata": {},
   "outputs": [],
   "source": []
  }
 ],
 "metadata": {
  "kernelspec": {
   "display_name": "Python (misc)",
   "language": "python",
   "name": "myenv"
  },
  "language_info": {
   "codemirror_mode": {
    "name": "ipython",
    "version": 3
   },
   "file_extension": ".py",
   "mimetype": "text/x-python",
   "name": "python",
   "nbconvert_exporter": "python",
   "pygments_lexer": "ipython3",
   "version": "3.8.12"
  }
 },
 "nbformat": 4,
 "nbformat_minor": 5
}
