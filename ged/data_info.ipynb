{
 "cells": [
  {
   "cell_type": "code",
   "execution_count": 1,
   "id": "4cf230e2",
   "metadata": {},
   "outputs": [],
   "source": [
    "from transformers import AutoTokenizer"
   ]
  },
  {
   "cell_type": "code",
   "execution_count": 2,
   "id": "18f5e877",
   "metadata": {},
   "outputs": [],
   "source": [
    "def read_data(path):\n",
    "    with open(path) as f:\n",
    "        return [x.strip() for x in f.readlines()]"
   ]
  },
  {
   "cell_type": "code",
   "execution_count": 3,
   "id": "8ce24f2e",
   "metadata": {},
   "outputs": [],
   "source": [
    "def get_max_len(tokenized_data):\n",
    "    for x in tokenized_data:\n",
    "        print(len(x))"
   ]
  },
  {
   "cell_type": "code",
   "execution_count": 4,
   "id": "722ed8da",
   "metadata": {},
   "outputs": [],
   "source": [
    "tokenizer = AutoTokenizer.from_pretrained('/scratch/ba63/BERT_models/bert-base-arabic-camelbert-msa/')"
   ]
  },
  {
   "cell_type": "code",
   "execution_count": null,
   "id": "62b768de",
   "metadata": {},
   "outputs": [],
   "source": []
  },
  {
   "cell_type": "code",
   "execution_count": 12,
   "id": "ea514235",
   "metadata": {},
   "outputs": [
    {
     "name": "stdout",
     "output_type": "stream",
     "text": [
      "Max length in train: 188\n",
      "Max length in dev: 135\n",
      "Max length in test: 192\n"
     ]
    }
   ],
   "source": [
    "qalb14_train_src = read_data('/scratch/ba63/gec/data/QALB-0.9.1-Dec03-2021-SharedTasks/data/'\\\n",
    "                             '2014/train/QALB-2014-L1-Train.sent.no_ids.clean')\n",
    "\n",
    "qalb14_tune_src = read_data('/scratch/ba63/gec/data/QALB-0.9.1-Dec03-2021-SharedTasks/data/'\\\n",
    "                            '2014/tune/QALB-2014-L1-Tune.sent.no_ids.clean')\n",
    "\n",
    "qalb14_test_src = read_data('/scratch/ba63/gec/data/QALB-0.9.1-Dec03-2021-SharedTasks/data/'\\\n",
    "                             '2014/test/QALB-2014-L1-Test.sent.no_ids.clean')\n",
    "\n",
    "\n",
    "qalb14_train_src_tokenized = tokenizer(qalb14_train_src)\n",
    "qalb14_tune_src_tokenized = tokenizer(qalb14_tune_src)\n",
    "qalb14_test_src_tokenized = tokenizer(qalb14_test_src)\n",
    "\n",
    "print(f\"Max length in train: {len(max(qalb14_train_src_tokenized['input_ids'], key=len))}\")\n",
    "print(f\"Max length in dev: {len(max(qalb14_tune_src_tokenized['input_ids'], key=len))}\")\n",
    "print(f\"Max length in test: {len(max(qalb14_test_src_tokenized['input_ids'], key=len))}\")"
   ]
  },
  {
   "cell_type": "code",
   "execution_count": 13,
   "id": "c4ac7c10",
   "metadata": {},
   "outputs": [
    {
     "name": "stdout",
     "output_type": "stream",
     "text": [
      "Max length in train: 464\n",
      "Max length in dev: 499\n",
      "Max length in test: 548\n"
     ]
    }
   ],
   "source": [
    "qalb15_train_src = read_data('/scratch/ba63/gec/data/QALB-0.9.1-Dec03-2021-SharedTasks/data/'\\\n",
    "                             '2015/train/QALB-2015-L2-Train.sent.no_ids')\n",
    "\n",
    "qalb15_dev_src = read_data('/scratch/ba63/gec/data/QALB-0.9.1-Dec03-2021-SharedTasks/data/'\\\n",
    "                             '2015/dev/QALB-2015-L2-Dev.sent.no_ids')\n",
    "\n",
    "qalb15_test_src = read_data('/scratch/ba63/gec/data/QALB-0.9.1-Dec03-2021-SharedTasks/data/'\\\n",
    "                             '2015/test/QALB-2015-L2-Test.sent.no_ids')\n",
    "\n",
    "# qalb15_test_l1_src = read_data('/home/ba63/arabic-gec/data/gec/QALB-0.9.1-Dec03-2021-SharedTasks/'\\\n",
    "#                        'data/2015/test/QALB-2015-L1-Test.sent.no_ids')\n",
    "\n",
    "qalb15_train_src_tokenized = tokenizer(qalb15_train_src)\n",
    "qalb15_dev_src_tokenized = tokenizer(qalb15_dev_src)\n",
    "qalb15_test_src_tokenized = tokenizer(qalb15_test_src)\n",
    "# qalb15_test_l1_src_tokenized = tokenizer(qalb15_test_l1_src)\n",
    "\n",
    "\n",
    "print(f\"Max length in train: {len(max(qalb15_train_src_tokenized['input_ids'], key=len))}\")\n",
    "print(f\"Max length in dev: {len(max(qalb15_dev_src_tokenized['input_ids'], key=len))}\")\n",
    "print(f\"Max length in test: {len(max(qalb15_test_src_tokenized['input_ids'], key=len))}\")\n",
    "# print(f\"Max length in test-L1: {len(max(qalb15_test_l1_src_tokenized['input_ids'], key=len))}\")"
   ]
  },
  {
   "cell_type": "code",
   "execution_count": 14,
   "id": "f6a0647f",
   "metadata": {},
   "outputs": [
    {
     "name": "stdout",
     "output_type": "stream",
     "text": [
      "Max length in train: 487\n",
      "Max length in dev: 456\n",
      "Max length in test: 373\n"
     ]
    }
   ],
   "source": [
    "zaebuc_train_src = read_data('/scratch/ba63/gec/data/ZAEBUC-v1.0/data/ar/train/train.sent.raw.pnx.tok')\n",
    "\n",
    "zaebuc_dev_src = read_data('/scratch/ba63/gec/data/ZAEBUC-v1.0/data/ar/dev/dev.sent.raw.pnx.tok')\n",
    "\n",
    "zaebuc_test_src = read_data('/scratch/ba63/gec/data/ZAEBUC-v1.0/data/ar/test/test.sent.raw.pnx.tok')\n",
    "\n",
    "\n",
    "zaebuc_train_src_tokenized = tokenizer(zaebuc_train_src)\n",
    "zaebuc_dev_src_tokenized = tokenizer(zaebuc_dev_src)\n",
    "zaebuc_test_src_tokenized = tokenizer(zaebuc_test_src)\n",
    "\n",
    "print(f\"Max length in train: {len(max(zaebuc_train_src_tokenized['input_ids'], key=len))}\")\n",
    "print(f\"Max length in dev: {len(max(zaebuc_dev_src_tokenized['input_ids'], key=len))}\")\n",
    "print(f\"Max length in test: {len(max(zaebuc_test_src_tokenized['input_ids'], key=len))}\")"
   ]
  },
  {
   "cell_type": "code",
   "execution_count": null,
   "id": "2d592677",
   "metadata": {},
   "outputs": [],
   "source": []
  }
 ],
 "metadata": {
  "kernelspec": {
   "display_name": "Python (misc)",
   "language": "python",
   "name": "myenv"
  },
  "language_info": {
   "codemirror_mode": {
    "name": "ipython",
    "version": 3
   },
   "file_extension": ".py",
   "mimetype": "text/x-python",
   "name": "python",
   "nbconvert_exporter": "python",
   "pygments_lexer": "ipython3",
   "version": "3.8.12"
  }
 },
 "nbformat": 4,
 "nbformat_minor": 5
}
