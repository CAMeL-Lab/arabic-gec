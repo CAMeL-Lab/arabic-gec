{
 "cells": [
  {
   "cell_type": "code",
   "execution_count": 1,
   "id": "57d7e7a3",
   "metadata": {},
   "outputs": [],
   "source": [
    "from camel_tools.utils.charsets import UNICODE_PUNCT_SYMBOL_CHARSET\n",
    "import string\n",
    "import re\n",
    "import copy"
   ]
  },
  {
   "cell_type": "code",
   "execution_count": 8,
   "id": "e772baa2",
   "metadata": {},
   "outputs": [],
   "source": [
    "def read_lines(path):\n",
    "    with open(path) as f:\n",
    "        return [x.strip() for x in f.readlines()]\n",
    "    \n",
    "def read_alignment(path):\n",
    "    example = []\n",
    "    examples = []\n",
    "    with open(path) as f:\n",
    "        for line in f.readlines()[1:]:\n",
    "            line = line.replace('\\n', '').split('\\t')\n",
    "            if len(line) > 1:\n",
    "                s, t = line\n",
    "                example.append((s, t))\n",
    "            else:\n",
    "                examples.append(example)\n",
    "                example = []\n",
    "\n",
    "        if example:\n",
    "            examples.append(example)\n",
    "\n",
    "    return examples"
   ]
  },
  {
   "cell_type": "code",
   "execution_count": 9,
   "id": "de620e30",
   "metadata": {},
   "outputs": [],
   "source": [
    "def read_gold_m2_edits(path):\n",
    "    sent_edits = []\n",
    "    edits = []\n",
    "    with open(path, mode='r') as f:\n",
    "        for line in f.readlines():\n",
    "            line = line.strip()\n",
    "            if line.startswith('S'):\n",
    "                continue\n",
    "            \n",
    "            if line:\n",
    "                line = line.split('|||')\n",
    "                op = line[1]\n",
    "                if op == 'Delete':\n",
    "                    sent_edits.append('')\n",
    "                else:\n",
    "                    sent_edits.append(line[2])\n",
    "            else:\n",
    "                edits.append(sent_edits)\n",
    "                sent_edits = []\n",
    "        \n",
    "    return edits"
   ]
  },
  {
   "cell_type": "code",
   "execution_count": 10,
   "id": "53156348",
   "metadata": {},
   "outputs": [],
   "source": [
    "def create_m2_edits_per_ex(example):\n",
    "    edits = []\n",
    "    src_idx = 0\n",
    "    preds = []\n",
    "    for i, (s, t) in enumerate(example):\n",
    "\n",
    "        if s == t:\n",
    "            src_idx += 1\n",
    "            continue\n",
    "        \n",
    "        if s != '' and t != '':\n",
    "            edit = f'A {src_idx} {src_idx + len(s.split())}|||Replace|||{t}|||REQUIRED|||-NONE-|||0'\n",
    "            src_idx += len(s.split())\n",
    "            preds.append(t)\n",
    "        \n",
    "        elif s == '' and t != '':\n",
    "            edit = f'A {src_idx} {src_idx}|||Insert|||{t}|||REQUIRED|||-NONE-|||0'\n",
    "            preds.append(t)\n",
    "            \n",
    "        elif s != '' and t == '':\n",
    "            edit = f'A {src_idx} {src_idx + len(s.split())}|||Delete||||||REQUIRED|||-NONE-|||0'\n",
    "            src_idx += len(s.split())\n",
    "            preds.append('')\n",
    "            \n",
    "        edits.append(edit)\n",
    "\n",
    "    return \"\\n\".join(edits), preds\n",
    "\n",
    "def create_m2_edits(examples):\n",
    "    edits = []\n",
    "    preds = []\n",
    "    for i, example in enumerate(examples):\n",
    "        ex_edits, ex_preds = create_m2_edits_per_ex(example)\n",
    "        edits.append(ex_edits)\n",
    "        preds.append(ex_preds)\n",
    "    \n",
    "    return edits, preds"
   ]
  },
  {
   "cell_type": "code",
   "execution_count": 11,
   "id": "9591cc99",
   "metadata": {},
   "outputs": [],
   "source": [
    "def compare_edits(src_sents, tgt_sents, gold_edits, my_edits):\n",
    "    check = []\n",
    "    bugs = 0\n",
    "    with open('alignment_eval_checkkk.txt', mode='w') as f:\n",
    "        for i in range(len(src_sents)):\n",
    "            g_edits = gold_edits[i]\n",
    "            m_edits = my_edits[i]\n",
    "\n",
    "            if g_edits != m_edits: \n",
    "                bugs += 1\n",
    "                f.write(f'<s>{src_sents[i]}<s>\\n')\n",
    "                f.write(f'<s>{tgt_sents[i]}<s>\\n')\n",
    "\n",
    "                j, k = 0, 0\n",
    "\n",
    "                while j < len(g_edits) or k < len(m_edits):\n",
    "                    g = g_edits[j] if j < len(g_edits) else ''\n",
    "                    m = m_edits[k] if k < len(m_edits) else ''\n",
    "\n",
    "                    f.write(f'<s>{g}<s>\\t<s>{m}<s>\\n')\n",
    "                    \n",
    "                    j += 1\n",
    "                    k += 1\n",
    "\n",
    "                f.write('\\n')\n",
    "    print(bugs)"
   ]
  },
  {
   "cell_type": "code",
   "execution_count": 12,
   "id": "e6491fd3",
   "metadata": {},
   "outputs": [],
   "source": [
    "def recover_tgt(src, m2_edits):\n",
    "    m2_edits = m2_edits.split('\\n')\n",
    "    tgt = []\n",
    "    curr_idx = 0\n",
    "    for edit in m2_edits:\n",
    "\n",
    "        edit = edit.split('|||')\n",
    "        span = edit[0].split()[1:]\n",
    "        start, end = int(span[0]), int(span[1])\n",
    "        \n",
    "        tgt += src[curr_idx: start]\n",
    "        \n",
    "        if edit[1] != 'Delete':\n",
    "\n",
    "            tgt.append(edit[2])\n",
    "        \n",
    "        curr_idx = end\n",
    "    \n",
    "    if curr_idx < len(src):\n",
    "        tgt += src[curr_idx: ]\n",
    "    \n",
    "    return \" \".join(tgt)"
   ]
  },
  {
   "cell_type": "code",
   "execution_count": 13,
   "id": "7f346a0f",
   "metadata": {},
   "outputs": [],
   "source": [
    "def fix_m2_edit(m2_edits, tgt_sent):\n",
    "    m2_edits = m2_edits.split('\\n')\n",
    "    new_m2_edits = []\n",
    "    curr_idx = 0\n",
    "    tgt_idx = 0\n",
    "    \n",
    "    for i, edit in enumerate(m2_edits):\n",
    "        edit = edit.split('|||')\n",
    "        new_edit = copy.copy(edit)\n",
    "        span = edit[0].split()[1:]\n",
    "        start, end = int(span[0]), int(span[1])\n",
    "        tgt_idx += start - curr_idx\n",
    "        \n",
    "        # recover the original target token that has to be inserted or replaced\n",
    "        if edit[1] == 'Insert' or edit[1] == 'Replace':\n",
    "            new_edit[2] = \" \".join(tgt_sent.split()[tgt_idx: tgt_idx + len(edit[2].split())])\n",
    "            tgt_idx += len(edit[2].split())\n",
    "        \n",
    "        curr_idx = end\n",
    "        new_m2_edits.append('|||'.join(new_edit))\n",
    "    \n",
    "    return \"\\n\".join(new_m2_edits)"
   ]
  },
  {
   "cell_type": "code",
   "execution_count": null,
   "id": "3c514905",
   "metadata": {},
   "outputs": [],
   "source": []
  },
  {
   "cell_type": "code",
   "execution_count": 15,
   "id": "4e4e524f",
   "metadata": {},
   "outputs": [],
   "source": [
    "gold_edits = read_gold_m2_edits('/scratch/ba63/gec/data/QALB-0.9.1-Dec03-2021-SharedTasks/data/2014'\\\n",
    "                                '/tune/QALB-2014-L1-Tune.m2')\n",
    "\n",
    "src_sents = read_lines('/scratch/ba63/gec/data/QALB-0.9.1-Dec03-2021-SharedTasks/data/2014'\\\n",
    "                        '/tune/QALB-2014-L1-Tune.sent.no_ids.clean')\n",
    "\n",
    "tgt_sents = read_lines('/scratch/ba63/gec/data/QALB-0.9.1-Dec03-2021-SharedTasks/data/2014'\\\n",
    "                        '/tune/QALB-2014-L1-Tune.cor.no_ids')\n",
    "\n",
    "alignment = read_alignment('/scratch/ba63/gec/data/alignment/qalb14/qalb14_tune.txt')\n",
    "my_edits, preds = create_m2_edits(alignment)"
   ]
  },
  {
   "cell_type": "code",
   "execution_count": 16,
   "id": "c7a06519",
   "metadata": {},
   "outputs": [],
   "source": [
    "fixed_edits = []\n",
    "for i, (edit, tgt_sent) in enumerate(zip(my_edits, tgt_sents)):\n",
    "    if edit:\n",
    "        fixed_edits.append(fix_m2_edit(edit, tgt_sent))\n",
    "    else:\n",
    "        fixed_edits.append('')"
   ]
  },
  {
   "cell_type": "code",
   "execution_count": 17,
   "id": "39612a2e",
   "metadata": {},
   "outputs": [],
   "source": [
    "for i in range(len(fixed_edits)):\n",
    "    if fixed_edits[i] and recover_tgt(src_sents[i].split(), fixed_edits[i]) != tgt_sents[i]:\n",
    "        print(i)"
   ]
  },
  {
   "cell_type": "code",
   "execution_count": 18,
   "id": "5b16aabb",
   "metadata": {},
   "outputs": [
    {
     "name": "stdout",
     "output_type": "stream",
     "text": [
      "147\n"
     ]
    }
   ],
   "source": [
    "compare_edits(src_sents, tgt_sents, gold_edits, preds)"
   ]
  },
  {
   "cell_type": "code",
   "execution_count": null,
   "id": "b6386d80",
   "metadata": {},
   "outputs": [],
   "source": []
  }
 ],
 "metadata": {
  "kernelspec": {
   "display_name": "Python (misc)",
   "language": "python",
   "name": "myenv"
  },
  "language_info": {
   "codemirror_mode": {
    "name": "ipython",
    "version": 3
   },
   "file_extension": ".py",
   "mimetype": "text/x-python",
   "name": "python",
   "nbconvert_exporter": "python",
   "pygments_lexer": "ipython3",
   "version": "3.8.12"
  }
 },
 "nbformat": 4,
 "nbformat_minor": 5
}
