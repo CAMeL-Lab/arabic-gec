{
 "cells": [
  {
   "cell_type": "code",
   "execution_count": 2,
   "id": "6da3b8f6",
   "metadata": {},
   "outputs": [],
   "source": [
    "# from camel_tools.disambig.bert import BERTUnfactoredDisambiguator\n",
    "# bert_disambig = BERTUnfactoredDisambiguator.pretrained()"
   ]
  },
  {
   "cell_type": "code",
   "execution_count": 3,
   "id": "6d615d1b",
   "metadata": {},
   "outputs": [],
   "source": [
    "def load_data(path):\n",
    "    tgt_tokens = []\n",
    "    examples = []\n",
    "\n",
    "    with open(path, mode='r') as f:\n",
    "        for line in f.readlines()[1:]:\n",
    "            line = line.split('\\t')\n",
    "            if len(line) == 3:\n",
    "                src, tgt, tag = line\n",
    "                tgt_tokens.append(tgt)\n",
    "            else:\n",
    "                examples.append(tgt_tokens[1:-1])\n",
    "                tgt_tokens = []\n",
    "\n",
    "        if tgt_tokens:\n",
    "            examples.append(tgt_tokens[1:-1])\n",
    "\n",
    "    return examples"
   ]
  },
  {
   "cell_type": "code",
   "execution_count": 8,
   "id": "d15f87e6",
   "metadata": {},
   "outputs": [],
   "source": [
    "def pos_tag(sentence):\n",
    "    indices = []\n",
    "    words = []\n",
    "    \n",
    "    for i, word in enumerate(sentence):\n",
    "        indices.extend(i for x in word.split())\n",
    "        words.extend(w for w in word.split())\n",
    " \n",
    "    print(list(zip(words, indices)))"
   ]
  },
  {
   "cell_type": "code",
   "execution_count": 9,
   "id": "143c10da",
   "metadata": {},
   "outputs": [],
   "source": [
    "data = load_data('/scratch/ba63/gec/data/alignment/modeling_areta_tags_check/'\\\n",
    "                 'qalb14/qalb14_train.areta+.txt')"
   ]
  },
  {
   "cell_type": "code",
   "execution_count": 10,
   "id": "f057865c",
   "metadata": {},
   "outputs": [
    {
     "name": "stdout",
     "output_type": "stream",
     "text": [
      "[('إلى', 0), ('التعليق', 1), ('رقم', 2), ('2', 3), (':', 3), ('أكيد', 4), ('أن', 5), ('للحكام', 6), ('العرب', 7), ('والمسلمين', 8), ('مسؤولية', 9), ('يتمثل', 10), ('أدناها', 11), ('في', 12), ('استدعاء', 13), ('السفراء', 14), ('في', 15), ('الصين', 16), ('للتشاور', 17), ('.', 18), ('فليتهم', 19), ('يفعلونها', 20), ('ولو', 21), ('مرة', 22), ('!', 23), ('ولنا', 24), ('نحن', 25), ('كشعوب', 26), ('مسؤولية', 27), ('كذلك', 28), ('تتمثل', 29), ('في', 30), ('مساندة', 31), ('إخواننا', 32), ('في', 33), ('الصين', 34), ('بمقاطعة', 35), ('البضائع', 36), ('الصينية', 37), ('.', 37), ('وليتنا', 38), ('نفعلها', 39), ('ولو', 40), ('ثلاثة', 41), ('أشهر', 42), ('!', 43)]\n"
     ]
    }
   ],
   "source": [
    "pos_tag(data[0])"
   ]
  },
  {
   "cell_type": "code",
   "execution_count": null,
   "id": "1f33fc48",
   "metadata": {},
   "outputs": [],
   "source": []
  }
 ],
 "metadata": {
  "kernelspec": {
   "display_name": "Python (misc)",
   "language": "python",
   "name": "myenv"
  },
  "language_info": {
   "codemirror_mode": {
    "name": "ipython",
    "version": 3
   },
   "file_extension": ".py",
   "mimetype": "text/x-python",
   "name": "python",
   "nbconvert_exporter": "python",
   "pygments_lexer": "ipython3",
   "version": "3.8.12"
  }
 },
 "nbformat": 4,
 "nbformat_minor": 5
}
